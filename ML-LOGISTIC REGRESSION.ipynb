{
 "cells": [
  {
   "cell_type": "code",
   "execution_count": null,
   "id": "2cf0f196-0b6c-48e3-89d6-f7752e2a2842",
   "metadata": {},
   "outputs": [],
   "source": [
    "#1.What is Logistic Regression, and how does it differ from Linear Regression.\n",
    "Logistic Regression is a classification algorithm used to predict categorical outcomes (e.g., Yes/No, 0/1, True/False).\n",
    "Linear Regression predicts continuous values, \n",
    "whereas Logistic Regression predicts probabilities and maps them to discrete classes using a threshold (typically 0.5)."
   ]
  },
  {
   "cell_type": "code",
   "execution_count": null,
   "id": "a66b56a1-f5cf-4aa9-91a1-18afddb91331",
   "metadata": {},
   "outputs": [],
   "source": [
    "#2.What is the mathematical equation of Logistic Regression.\n",
    "The logistic regression model is given by:\n",
    "\n",
    "𝑝\n",
    "(\n",
    "𝑋\n",
    ")\n",
    "=\n",
    "1\n",
    "1\n",
    "+\n",
    "𝑒\n",
    "−\n",
    "(\n",
    "𝛽\n",
    "0\n",
    "+\n",
    "𝛽\n",
    "1\n",
    "𝑋\n",
    "1\n",
    "+\n",
    "𝛽\n",
    "2\n",
    "𝑋\n",
    "2\n",
    "+\n",
    ".\n",
    ".\n",
    ".\n",
    "+\n",
    "𝛽\n",
    "𝑛\n",
    "𝑋\n",
    "𝑛\n",
    ")\n",
    "p(X)= \n",
    "1+e \n",
    "−(β \n",
    "0\n",
    "​\n",
    " +β \n",
    "1\n",
    "​\n",
    " X \n",
    "1\n",
    "​\n",
    " +β \n",
    "2\n",
    "​\n",
    " X \n",
    "2\n",
    "​\n",
    " +...+β \n",
    "n\n",
    "​\n",
    " X \n",
    "n\n",
    "​\n",
    " )\n",
    " \n",
    "1\n",
    "​\n",
    " \n",
    "where \n",
    "𝑝\n",
    "(\n",
    "𝑋\n",
    ")\n",
    "p(X) is the probability of the positive class."
   ]
  },
  {
   "cell_type": "code",
   "execution_count": null,
   "id": "d7fcb8b9-e8ca-4367-ba81-0bf35717ba43",
   "metadata": {},
   "outputs": [],
   "source": [
    "#3.Why do we use the Sigmoid function in Logistic Regression.\n",
    "The Sigmoid function:\n",
    "\n",
    "𝜎\n",
    "(\n",
    "𝑧\n",
    ")\n",
    "=\n",
    "1\n",
    "1\n",
    "+\n",
    "𝑒\n",
    "−\n",
    "𝑧\n",
    "σ(z)= \n",
    "1+e \n",
    "−z\n",
    " \n",
    "1\n",
    "​\n",
    " \n",
    "Converts any real-valued number into a probability between 0 and 1.\n",
    "Helps in binary classification by defining a clear decision boundary."
   ]
  },
  {
   "cell_type": "code",
   "execution_count": null,
   "id": "7aafb5fb-900f-48ff-a427-2a4d44057662",
   "metadata": {},
   "outputs": [],
   "source": [
    "#4.What is the cost function of Logistic Regression.\n",
    "Logistic Regression uses log loss (cross-entropy loss):\n",
    "\n",
    "𝐽\n",
    "(\n",
    "𝜃\n",
    ")\n",
    "=\n",
    "−\n",
    "1\n",
    "𝑚\n",
    "∑\n",
    "𝑖\n",
    "=\n",
    "1\n",
    "𝑚\n",
    "[\n",
    "𝑦\n",
    "𝑖\n",
    "log\n",
    "⁡\n",
    "(\n",
    "ℎ\n",
    "𝜃\n",
    "(\n",
    "𝑥\n",
    "𝑖\n",
    ")\n",
    ")\n",
    "+\n",
    "(\n",
    "1\n",
    "−\n",
    "𝑦\n",
    "𝑖\n",
    ")\n",
    "log\n",
    "⁡\n",
    "(\n",
    "1\n",
    "−\n",
    "ℎ\n",
    "𝜃\n",
    "(\n",
    "𝑥\n",
    "𝑖\n",
    ")\n",
    ")\n",
    "]\n",
    "J(θ)=− \n",
    "m\n",
    "1\n",
    "​\n",
    "  \n",
    "i=1\n",
    "∑\n",
    "m\n",
    "​\n",
    " [y \n",
    "i\n",
    "​\n",
    " log(h \n",
    "θ\n",
    "​\n",
    " (x \n",
    "i\n",
    "​\n",
    " ))+(1−y \n",
    "i\n",
    "​\n",
    " )log(1−h \n",
    "θ\n",
    "​\n",
    " (x \n",
    "i\n",
    "​\n",
    " ))]\n",
    "where \n",
    "ℎ\n",
    "𝜃\n",
    "(\n",
    "𝑥\n",
    ")\n",
    "h \n",
    "θ\n",
    "​\n",
    " (x) is the predicted probability."
   ]
  },
  {
   "cell_type": "code",
   "execution_count": null,
   "id": "a474f90a-6b54-4225-aa47-652b31b20a5b",
   "metadata": {},
   "outputs": [],
   "source": [
    "#5.What is Regularization in Logistic Regression? Why is it needed.\n",
    "Regularization prevents overfitting by penalizing large coefficients in the model.\n",
    "\n",
    "L1 Regularization (Lasso): Shrinks some coefficients to zero, performing feature selection.\n",
    "L2 Regularization (Ridge): Shrinks all coefficients but does not set any to zero.\n",
    "Elastic Net: A mix of L1 and L2 regularization."
   ]
  },
  {
   "cell_type": "code",
   "execution_count": null,
   "id": "e23e5cb4-7bf5-413a-92e3-32494a3a2bf1",
   "metadata": {},
   "outputs": [],
   "source": [
    "#6.Explain the difference between Lasso, Ridge, and Elastic Net regression.\n",
    "Lasso (L1): Can shrink coefficients to zero, performing feature selection.\n",
    "Ridge (L2): Shrinks coefficients but retains all features.\n",
    "Elastic Net: A combination of both, balancing feature selection and coefficient shrinkage."
   ]
  },
  {
   "cell_type": "code",
   "execution_count": null,
   "id": "56ece0ed-b0ad-4e54-949e-44ce43bf319f",
   "metadata": {},
   "outputs": [],
   "source": [
    "#7.When should we use Elastic Net instead of Lasso or Ridge.\n",
    "Use Elastic Net when:\n",
    "\n",
    "There are correlated features (Lasso struggles in such cases).\n",
    "You need both regularization and feature selection."
   ]
  },
  {
   "cell_type": "code",
   "execution_count": null,
   "id": "2d8acad2-130a-42ba-b13e-092aa204704d",
   "metadata": {},
   "outputs": [],
   "source": [
    "#8.What is the impact of the regularization parameter (λ) in Logistic Regression.\n",
    "High \n",
    "𝜆\n",
    "λ → More regularization → Simpler model but higher bias.\n",
    "Low \n",
    "𝜆\n",
    "λ → Less regularization → More complex model but higher variance."
   ]
  },
  {
   "cell_type": "code",
   "execution_count": null,
   "id": "25e4aac3-21bb-4fcf-bcbd-cc7365d4b706",
   "metadata": {},
   "outputs": [],
   "source": [
    "#9.What are the key assumptions of Logistic Regression.\n",
    "Linear relationship between independent variables and the log-odds.\n",
    "No multicollinearity among independent variables.\n",
    "Large sample size for stable estimates."
   ]
  },
  {
   "cell_type": "code",
   "execution_count": null,
   "id": "0d08daeb-d878-4e74-a9f0-5a47a855155f",
   "metadata": {},
   "outputs": [],
   "source": [
    "#10.What are some alternatives to Logistic Regression for classification tasks.\n",
    "Decision Trees\n",
    "Random Forests\n",
    "Support Vector Machines (SVM)\n",
    "Gradient Boosting (XGBoost, LightGBM, CatBoost)\n",
    "Neural Networks"
   ]
  },
  {
   "cell_type": "code",
   "execution_count": null,
   "id": "0b36e522-4088-44ca-93cc-9d8aa55bf2f2",
   "metadata": {},
   "outputs": [],
   "source": [
    "#11.What are Classification Evaluation Metrics.\n",
    "Accuracy\n",
    "Precision, Recall, and F1-Score\n",
    "ROC-AUC Curve\n",
    "Log-Loss"
   ]
  },
  {
   "cell_type": "code",
   "execution_count": null,
   "id": "e9c3d8df-34ee-47aa-9033-d747d6ea65f5",
   "metadata": {},
   "outputs": [],
   "source": [
    "#12.How does class imbalance affect Logistic Regression.\n",
    "Leads to biased predictions favoring the majority class.\n",
    "Solutions: Oversampling, Undersampling, Class-weighted loss function, SMOTE."
   ]
  },
  {
   "cell_type": "code",
   "execution_count": null,
   "id": "5bdf07f7-3f05-4cbe-adf8-c2dbbd137481",
   "metadata": {},
   "outputs": [],
   "source": [
    "#13.What is Hyperparameter Tuning in Logistic Regression.\n",
    "Optimizing parameters like regularization strength (\n",
    "𝜆\n",
    "λ), solver choice, etc.\n",
    "Methods: Grid Search, Random Search, Bayesian Optimization."
   ]
  },
  {
   "cell_type": "code",
   "execution_count": null,
   "id": "e11d44ae-8841-4d99-9e78-4ed26f8f51c0",
   "metadata": {},
   "outputs": [],
   "source": [
    "#14.What are different solvers in Logistic Regression? Which one should be used.\n",
    "lbfgs (default, good for small to medium datasets)\n",
    "liblinear (good for small datasets, supports L1)\n",
    "saga (best for large datasets, supports L1, L2, Elastic Net)\n",
    "newton-cg (useful for high-dimensional data)    "
   ]
  },
  {
   "cell_type": "code",
   "execution_count": null,
   "id": "b965d1a6-2e1a-4138-8846-47a9727e8006",
   "metadata": {},
   "outputs": [],
   "source": [
    "#15.How is Logistic Regression extended for multiclass classification.\n",
    "One-vs-Rest (OvR): Fits multiple binary classifiers for each class.\n",
    "Softmax Regression (Multinomial Logistic Regression): Generalizes logistic regression to multi-class problems \n",
    "by assigning probabilities to all classes."
   ]
  },
  {
   "cell_type": "code",
   "execution_count": null,
   "id": "aeda8372-46c6-4d3f-b6cc-51dca24a2c11",
   "metadata": {},
   "outputs": [],
   "source": [
    "#16.What are the advantages and disadvantages of Logistic Regression.\n",
    "#Advantages>>\n",
    "Simple and Interpretable – Easy to implement and interpret.\n",
    "Probabilistic Output – Provides probability estimates for classification.\n",
    "Efficient for Small Datasets – Works well when the number of observations is not very large.\n",
    "Feature Importance – Coefficients help understand feature significance.\n",
    "Less Prone to Overfitting – Regularization (L1, L2) helps prevent overfitting.\n",
    "Works Well with Linearly Separable Data – Performs effectively when data has a clear linear boundary.\n",
    "#Disadvantages>>\n",
    "Limited to Linearly Separable Problems – Does not perform well when the data is non-linearly separable.\n",
    "Sensitive to Outliers – Outliers can heavily influence the model.\n",
    "Feature Engineering Required – Requires meaningful features for good performance.\n",
    "Multicollinearity Issues – Correlated features can lead to unreliable coefficient estimates.\n",
    "Not Suitable for Complex Relationships – May not capture complex patterns like deep learning models."
   ]
  },
  {
   "cell_type": "code",
   "execution_count": null,
   "id": "9b7ba310-7cb0-4fc8-8900-0b0d626d3bd1",
   "metadata": {},
   "outputs": [],
   "source": [
    "#17.What are some use cases of Logistic Regression.\n",
    "Medical Diagnosis – Predicting diseases like diabetes or cancer.\n",
    "Credit Scoring – Assessing loan default risks.\n",
    "Spam Detection – Classifying emails as spam or not spam.\n",
    "Customer Churn Prediction – Identifying customers likely to leave a service.\n",
    "Fraud Detection – Identifying fraudulent transactions.\n",
    "Marketing Campaign Response – Predicting whether a customer will respond to an offer.\n"
   ]
  },
  {
   "cell_type": "code",
   "execution_count": null,
   "id": "957bb5c0-2b6b-4b19-a17b-3b1372d4ff99",
   "metadata": {},
   "outputs": [],
   "source": [
    "#18.What is the difference between Softmax Regression and Logistic Regression.\n",
    "\n",
    "Feature\t Logistic Regression\t         Softmax Regression\n",
    "Type\t Binary classification\t         Multiclass classification\n",
    "Output\t Single probability (sigmoid)\t Multiple probabilities (softmax)\n",
    "Formula\t\n",
    "𝑃\n",
    "(\n",
    "𝑦\n",
    "=\n",
    "1\n",
    ")\n",
    "=\n",
    "1\n",
    "1\n",
    "+\n",
    "𝑒\n",
    "−\n",
    "(\n",
    "𝑤\n",
    "𝑋\n",
    "+\n",
    "𝑏\n",
    ")\n",
    "P(y=1)= \n",
    "1+e \n",
    "−(wX+b)\n",
    " \n",
    "1\n",
    "​\n",
    " \t\n",
    "𝑃\n",
    "(\n",
    "𝑦\n",
    "=\n",
    "𝑖\n",
    ")\n",
    "=\n",
    "𝑒\n",
    "𝑤\n",
    "𝑖\n",
    "𝑋\n",
    "∑\n",
    "𝑒\n",
    "𝑤\n",
    "𝑗\n",
    "𝑋\n",
    "P(y=i)= \n",
    "∑e \n",
    "w \n",
    "j\n",
    "​\n",
    " X\n",
    " \n",
    "e \n",
    "w \n",
    "i\n",
    "​\n",
    " X\n",
    " \n",
    "​\n",
    " \n",
    "Decision Rule\tThreshold-based (0.5)\tArgmax (highest probability)\n",
    "Use Case\t2-class problems\tMulticlass problems (more than 2 classes)"
   ]
  },
  {
   "cell_type": "code",
   "execution_count": null,
   "id": "9133859c-7fa6-46d8-b64c-73628771f72d",
   "metadata": {},
   "outputs": [],
   "source": [
    "#19.How do we choose between One-vs-Rest (OvR) and Softmax for multiclass classification.\n",
    "One-vs-Rest (OvR):\n",
    "\n",
    "Trains one classifier per class (each class vs all others).\n",
    "Suitable when classes are imbalanced or when interpretability is needed.\n",
    "Computationally efficient for a large number of classes.\n",
    "Works better if classes are not mutually exclusive.\n",
    "Softmax Regression (Multinomial):\n",
    "\n",
    "Trains a single model for all classes using the softmax function.\n",
    "More probabilistically sound and works well when classes are mutually exclusive.\n",
    "Preferred when all classes are needed in one prediction (e.g., digit recognition).\n",
    "Can be computationally expensive for a high number of classes.\n",
    "Choosing Between OvR and Softmax:\n",
    "\n",
    "Use Softmax when all classes are disjoint and need to be predicted together.\n",
    "Use OvR when you want individual probabilities and classes are not necessarily mutually exclusive.\n"
   ]
  },
  {
   "cell_type": "code",
   "execution_count": null,
   "id": "c033ae5e-db21-4e1e-b0ae-c564de299b03",
   "metadata": {},
   "outputs": [],
   "source": [
    "#20.How do we interpret coefficients in Logistic Regression?\n",
    "Coefficients (𝛽β) represent the log-odds change for a one-unit increase in the predictor variable.\n",
    "The odds ratio is given by \n",
    "𝑒\n",
    "𝛽\n",
    "e \n",
    "β\n",
    " , which tells how the odds of the event change with a one-unit increase in the predictor.\n",
    "A positive coefficient means higher probability of the event occurring.\n",
    "A negative coefficient means lower probability of the event occurring.\n",
    "Example: If \n",
    "𝛽\n",
    "=\n",
    "0.7\n",
    "β=0.7, then odds increase by \n",
    "𝑒\n",
    "0.7\n",
    "≈\n",
    "2\n",
    "e \n",
    "0.7\n",
    " ≈2 times for a one-unit increase in the predictor."
   ]
  },
  {
   "cell_type": "code",
   "execution_count": null,
   "id": "0cb90a15-a003-49a7-83c9-8ef17ffcb065",
   "metadata": {},
   "outputs": [],
   "source": [
    "#PRACTICAL EXAMPLES"
   ]
  },
  {
   "cell_type": "code",
   "execution_count": 1,
   "id": "41a7c3b0-5a58-44e4-9c3b-4f191e03cf34",
   "metadata": {},
   "outputs": [
    {
     "name": "stdout",
     "output_type": "stream",
     "text": [
      "Model Accuracy: 1.0\n"
     ]
    }
   ],
   "source": [
    "#1.Write a Python program that loads a dataset, splits it into training and testing sets, applies Logistic\n",
    "#Regression, and prints the model accuracy.\n",
    "from sklearn.model_selection import train_test_split\n",
    "from sklearn.linear_model import LogisticRegression\n",
    "from sklearn.metrics import accuracy_score\n",
    "from sklearn.datasets import load_iris\n",
    "\n",
    "# Load dataset\n",
    "data = load_iris()\n",
    "X, y = data.data, data.target\n",
    "\n",
    "# Split into training and testing sets\n",
    "X_train, X_test, y_train, y_test = train_test_split(X, y, test_size=0.2, random_state=42)\n",
    "\n",
    "# Apply Logistic Regression\n",
    "model = LogisticRegression(max_iter=200)\n",
    "model.fit(X_train, y_train)\n",
    "\n",
    "# Predict and print accuracy\n",
    "y_pred = model.predict(X_test)\n",
    "print(\"Model Accuracy:\", accuracy_score(y_test, y_pred))\n"
   ]
  },
  {
   "cell_type": "code",
   "execution_count": 2,
   "id": "34723a16-7884-441a-9fbe-063bc775bfd6",
   "metadata": {},
   "outputs": [
    {
     "name": "stdout",
     "output_type": "stream",
     "text": [
      "L1 Regularization Accuracy: 1.0\n"
     ]
    }
   ],
   "source": [
    "#2.Write a Python program to apply L1 regularization (Lasso) on a dataset using LogisticRegression(penalty='l1')\n",
    "#and print the model accuracy.\n",
    "from sklearn.linear_model import LogisticRegression\n",
    "\n",
    "# Apply L1 Regularization\n",
    "model_l1 = LogisticRegression(penalty='l1', solver='liblinear', max_iter=200)\n",
    "model_l1.fit(X_train, y_train)\n",
    "\n",
    "# Predict and print accuracy\n",
    "y_pred_l1 = model_l1.predict(X_test)\n",
    "print(\"L1 Regularization Accuracy:\", accuracy_score(y_test, y_pred_l1))\n"
   ]
  },
  {
   "cell_type": "code",
   "execution_count": 3,
   "id": "9dd0bb1c-a331-4fb4-a38e-4033be3b787d",
   "metadata": {},
   "outputs": [
    {
     "name": "stdout",
     "output_type": "stream",
     "text": [
      "L2 Regularization Accuracy: 1.0\n",
      "Model Coefficients: [[-0.3969917   0.96041003 -2.37401669 -1.00307592]\n",
      " [ 0.51273386 -0.25339633 -0.21526687 -0.76916219]\n",
      " [-0.11574216 -0.7070137   2.58928356  1.77223811]]\n"
     ]
    }
   ],
   "source": [
    "#3.Write a Python program to train Logistic Regression with L2 regularization (Ridge) using\n",
    "#LogisticRegression(penalty='l2'). Print model accuracy and coefficients.\n",
    "# Apply L2 Regularization\n",
    "model_l2 = LogisticRegression(penalty='l2', solver='lbfgs', max_iter=200)\n",
    "model_l2.fit(X_train, y_train)\n",
    "\n",
    "# Predict and print accuracy\n",
    "y_pred_l2 = model_l2.predict(X_test)\n",
    "print(\"L2 Regularization Accuracy:\", accuracy_score(y_test, y_pred_l2))\n",
    "\n",
    "# Print model coefficients\n",
    "print(\"Model Coefficients:\", model_l2.coef_)\n"
   ]
  },
  {
   "cell_type": "code",
   "execution_count": 4,
   "id": "af2236a9-5bfd-40f6-8cd8-5eaceabcae07",
   "metadata": {},
   "outputs": [
    {
     "name": "stdout",
     "output_type": "stream",
     "text": [
      "Elastic Net Accuracy: 1.0\n"
     ]
    },
    {
     "name": "stderr",
     "output_type": "stream",
     "text": [
      "C:\\Users\\PC DOCTOR\\anaconda3\\Lib\\site-packages\\sklearn\\linear_model\\_sag.py:350: ConvergenceWarning: The max_iter was reached which means the coef_ did not converge\n",
      "  warnings.warn(\n"
     ]
    }
   ],
   "source": [
    "#4.Write a Python program to train Logistic Regression with Elastic Net Regularization (penalty='elasticnet').\n",
    "# Apply Elastic Net Regularization\n",
    "model_en = LogisticRegression(penalty='elasticnet', solver='saga', l1_ratio=0.5, max_iter=200)\n",
    "model_en.fit(X_train, y_train)\n",
    "\n",
    "# Predict and print accuracy\n",
    "y_pred_en = model_en.predict(X_test)\n",
    "print(\"Elastic Net Accuracy:\", accuracy_score(y_test, y_pred_en))\n"
   ]
  },
  {
   "cell_type": "code",
   "execution_count": 5,
   "id": "4770f2a7-672b-49a4-9437-43c9b35bf8e2",
   "metadata": {},
   "outputs": [
    {
     "name": "stdout",
     "output_type": "stream",
     "text": [
      "OVR Classification Accuracy: 0.9666666666666667\n"
     ]
    }
   ],
   "source": [
    "#5.Write a Python program to train a Logistic Regression model for multiclass classification using\n",
    "#multi_class='ovr'.\n",
    "# Apply One-vs-Rest (OVR) Strategy\n",
    "model_ovr = LogisticRegression(multi_class='ovr', solver='lbfgs', max_iter=200)\n",
    "model_ovr.fit(X_train, y_train)\n",
    "\n",
    "# Predict and print accuracy\n",
    "y_pred_ovr = model_ovr.predict(X_test)\n",
    "print(\"OVR Classification Accuracy:\", accuracy_score(y_test, y_pred_ovr))\n"
   ]
  },
  {
   "cell_type": "code",
   "execution_count": null,
   "id": "66dcc609-feed-4a92-8631-68139b37b186",
   "metadata": {},
   "outputs": [],
   "source": [
    "#6.Write a Python program to apply GridSearchCV to tune the hyperparameters (C and penalty) of Logistic\n",
    "#Regression. Print the best parameters and accuracy.\n",
    "\n",
    "\u001bfrom sklearn.model_selection import GridSearchCV\n",
    "\n",
    "# Define hyperparameters to tune\n",
    "param_grid = {\n",
    "    'C': [0.1, 1, 10, 100],\n",
    "    'penalty': ['l1', 'l2'],\n",
    "    'solver': ['liblinear']\n",
    "}\n",
    "\n",
    "# Apply GridSearchCV\n",
    "grid_search = GridSearchCV(LogisticRegression(max_iter=200), param_grid, cv=5)\n",
    "grid_search.fit(X_train, y_train)\n",
    "\n",
    "# Print best parameters and accuracy\n",
    "print(\"Best Parameters:\", grid_search.best_params_)\n",
    "print(\"Best Accuracy:\", grid_search.best_score_)\n"
   ]
  },
  {
   "cell_type": "code",
   "execution_count": 8,
   "id": "839a3181-bc8c-4351-9043-8c983d00a02f",
   "metadata": {},
   "outputs": [
    {
     "name": "stdout",
     "output_type": "stream",
     "text": [
      "Stratified K-Fold Average Accuracy: 0.9666666666666668\n"
     ]
    }
   ],
   "source": [
    "#7.Write a Python program to evaluate Logistic Regression using Stratified K-Fold Cross-Validation. Print the\n",
    "#average accuracy.\n",
    "from sklearn.model_selection import StratifiedKFold, cross_val_score\n",
    "\n",
    "# Apply Stratified K-Fold Cross-Validation\n",
    "skf = StratifiedKFold(n_splits=5, shuffle=True, random_state=42)\n",
    "scores = cross_val_score(LogisticRegression(max_iter=200), X, y, cv=skf)\n",
    "\n",
    "# Print average accuracy\n",
    "print(\"Stratified K-Fold Average Accuracy:\", scores.mean())\n"
   ]
  },
  {
   "cell_type": "code",
   "execution_count": null,
   "id": "f00c1276-cb91-4110-a3ff-191a728efec2",
   "metadata": {},
   "outputs": [],
   "source": [
    "#8.Write a Python program to load a dataset from a CSV file, apply Logistic Regression, and evaluate its\n",
    "#accuracy.\n",
    "import pandas as pd\n",
    "\n",
    "# Load dataset from CSV (modify 'your_dataset.csv' accordingly)\n",
    "df = pd.read_csv('your_dataset.csv')\n",
    "\n",
    "# Assume the last column is the target variable\n",
    "X = df.iloc[:, :-1].values\n",
    "y = df.iloc[:, -1].values\n",
    "\n",
    "# Split into training and testing sets\n",
    "X_train, X_test, y_train, y_test = train_test_split(X, y, test_size=0.2, random_state=42)\n",
    "\n",
    "# Apply Logistic Regression\n",
    "model_csv = LogisticRegression(max_iter=200)\n",
    "model_csv.fit(X_train, y_train)\n",
    "\n",
    "# Predict and print accuracy\n",
    "y_pred_csv = model_csv.predict(X_test)\n",
    "print(\"CSV Data Accuracy:\", accuracy_score(y_test, y_pred_csv))"
   ]
  },
  {
   "cell_type": "code",
   "execution_count": 1,
   "id": "68bd8b62-0ab4-47cb-8e28-4a3915e7861b",
   "metadata": {},
   "outputs": [
    {
     "name": "stdout",
     "output_type": "stream",
     "text": [
      "Best Parameters: {'solver': 'saga', 'penalty': 'l1', 'C': 11.288378916846883}\n",
      "Accuracy: 1.0\n"
     ]
    },
    {
     "name": "stderr",
     "output_type": "stream",
     "text": [
      "C:\\Users\\PC DOCTOR\\anaconda3\\Lib\\site-packages\\sklearn\\model_selection\\_validation.py:378: FitFailedWarning: \n",
      "30 fits failed out of a total of 50.\n",
      "The score on these train-test partitions for these parameters will be set to nan.\n",
      "If these failures are not expected, you can try to debug them by setting error_score='raise'.\n",
      "\n",
      "Below are more details about the failures:\n",
      "--------------------------------------------------------------------------------\n",
      "10 fits failed with the following error:\n",
      "Traceback (most recent call last):\n",
      "  File \"C:\\Users\\PC DOCTOR\\anaconda3\\Lib\\site-packages\\sklearn\\model_selection\\_validation.py\", line 686, in _fit_and_score\n",
      "    estimator.fit(X_train, y_train, **fit_params)\n",
      "  File \"C:\\Users\\PC DOCTOR\\anaconda3\\Lib\\site-packages\\sklearn\\linear_model\\_logistic.py\", line 1291, in fit\n",
      "    fold_coefs_ = Parallel(n_jobs=self.n_jobs, verbose=self.verbose, prefer=prefer)(\n",
      "                  ^^^^^^^^^^^^^^^^^^^^^^^^^^^^^^^^^^^^^^^^^^^^^^^^^^^^^^^^^^^^^^^^^^\n",
      "  File \"C:\\Users\\PC DOCTOR\\anaconda3\\Lib\\site-packages\\sklearn\\utils\\parallel.py\", line 63, in __call__\n",
      "    return super().__call__(iterable_with_config)\n",
      "           ^^^^^^^^^^^^^^^^^^^^^^^^^^^^^^^^^^^^^^\n",
      "  File \"C:\\Users\\PC DOCTOR\\anaconda3\\Lib\\site-packages\\joblib\\parallel.py\", line 1085, in __call__\n",
      "    if self.dispatch_one_batch(iterator):\n",
      "       ^^^^^^^^^^^^^^^^^^^^^^^^^^^^^^^^^\n",
      "  File \"C:\\Users\\PC DOCTOR\\anaconda3\\Lib\\site-packages\\joblib\\parallel.py\", line 901, in dispatch_one_batch\n",
      "    self._dispatch(tasks)\n",
      "  File \"C:\\Users\\PC DOCTOR\\anaconda3\\Lib\\site-packages\\joblib\\parallel.py\", line 819, in _dispatch\n",
      "    job = self._backend.apply_async(batch, callback=cb)\n",
      "          ^^^^^^^^^^^^^^^^^^^^^^^^^^^^^^^^^^^^^^^^^^^^^\n",
      "  File \"C:\\Users\\PC DOCTOR\\anaconda3\\Lib\\site-packages\\joblib\\_parallel_backends.py\", line 208, in apply_async\n",
      "    result = ImmediateResult(func)\n",
      "             ^^^^^^^^^^^^^^^^^^^^^\n",
      "  File \"C:\\Users\\PC DOCTOR\\anaconda3\\Lib\\site-packages\\joblib\\_parallel_backends.py\", line 597, in __init__\n",
      "    self.results = batch()\n",
      "                   ^^^^^^^\n",
      "  File \"C:\\Users\\PC DOCTOR\\anaconda3\\Lib\\site-packages\\joblib\\parallel.py\", line 288, in __call__\n",
      "    return [func(*args, **kwargs)\n",
      "           ^^^^^^^^^^^^^^^^^^^^^^\n",
      "  File \"C:\\Users\\PC DOCTOR\\anaconda3\\Lib\\site-packages\\joblib\\parallel.py\", line 288, in <listcomp>\n",
      "    return [func(*args, **kwargs)\n",
      "            ^^^^^^^^^^^^^^^^^^^^^\n",
      "  File \"C:\\Users\\PC DOCTOR\\anaconda3\\Lib\\site-packages\\sklearn\\utils\\parallel.py\", line 123, in __call__\n",
      "    return self.function(*args, **kwargs)\n",
      "           ^^^^^^^^^^^^^^^^^^^^^^^^^^^^^^\n",
      "  File \"C:\\Users\\PC DOCTOR\\anaconda3\\Lib\\site-packages\\sklearn\\linear_model\\_logistic.py\", line 521, in _logistic_regression_path\n",
      "    alpha = (1.0 / C) * (1 - l1_ratio)\n",
      "                         ~~^~~~~~~~~~\n",
      "TypeError: unsupported operand type(s) for -: 'int' and 'NoneType'\n",
      "\n",
      "--------------------------------------------------------------------------------\n",
      "20 fits failed with the following error:\n",
      "Traceback (most recent call last):\n",
      "  File \"C:\\Users\\PC DOCTOR\\anaconda3\\Lib\\site-packages\\sklearn\\model_selection\\_validation.py\", line 686, in _fit_and_score\n",
      "    estimator.fit(X_train, y_train, **fit_params)\n",
      "  File \"C:\\Users\\PC DOCTOR\\anaconda3\\Lib\\site-packages\\sklearn\\linear_model\\_logistic.py\", line 1162, in fit\n",
      "    solver = _check_solver(self.solver, self.penalty, self.dual)\n",
      "             ^^^^^^^^^^^^^^^^^^^^^^^^^^^^^^^^^^^^^^^^^^^^^^^^^^^\n",
      "  File \"C:\\Users\\PC DOCTOR\\anaconda3\\Lib\\site-packages\\sklearn\\linear_model\\_logistic.py\", line 64, in _check_solver\n",
      "    raise ValueError(\n",
      "ValueError: Only 'saga' solver supports elasticnet penalty, got solver=liblinear.\n",
      "\n",
      "  warnings.warn(some_fits_failed_message, FitFailedWarning)\n",
      "C:\\Users\\PC DOCTOR\\anaconda3\\Lib\\site-packages\\sklearn\\model_selection\\_search.py:952: UserWarning: One or more of the test scores are non-finite: [0.83333333        nan        nan 0.94166667 0.65833333        nan\n",
      " 0.95833333        nan        nan        nan]\n",
      "  warnings.warn(\n"
     ]
    }
   ],
   "source": [
    "#9.Write a Python program to apply RandomizedSearchCV for tuning hyperparameters (C, penalty, solver) in\n",
    "#Logistic Regression. Print the best parameters and accuracy.\n",
    "from sklearn.model_selection import RandomizedSearchCV, train_test_split\n",
    "from sklearn.linear_model import LogisticRegression\n",
    "from sklearn.datasets import load_iris\n",
    "from sklearn.metrics import accuracy_score\n",
    "import numpy as np\n",
    "\n",
    "# Load dataset\n",
    "iris = load_iris()\n",
    "X, y = iris.data, iris.target\n",
    "\n",
    "# Split data\n",
    "X_train, X_test, y_train, y_test = train_test_split(X, y, test_size=0.2, random_state=42)\n",
    "\n",
    "# Define hyperparameter grid\n",
    "param_grid = {\n",
    "    'C': np.logspace(-4, 4, 20),\n",
    "    'penalty': ['l1', 'l2', 'elasticnet'],\n",
    "    'solver': ['liblinear', 'saga']\n",
    "}\n",
    "\n",
    "# Apply RandomizedSearchCV\n",
    "log_reg = LogisticRegression(max_iter=5000)\n",
    "random_search = RandomizedSearchCV(log_reg, param_grid, cv=5, n_iter=10, scoring='accuracy', random_state=42)\n",
    "random_search.fit(X_train, y_train)\n",
    "\n",
    "# Print best parameters and accuracy\n",
    "best_model = random_search.best_estimator_\n",
    "y_pred = best_model.predict(X_test)\n",
    "accuracy = accuracy_score(y_test, y_pred)\n",
    "\n",
    "print(\"Best Parameters:\", random_search.best_params_)\n",
    "print(\"Accuracy:\", accuracy)\n"
   ]
  },
  {
   "cell_type": "code",
   "execution_count": 2,
   "id": "467ac747-c275-4cbe-8f3a-969d31f668aa",
   "metadata": {},
   "outputs": [
    {
     "name": "stdout",
     "output_type": "stream",
     "text": [
      "One-vs-One (OvO) Logistic Regression Accuracy: 1.0\n"
     ]
    }
   ],
   "source": [
    "#10.EHM Write a Python program to implement One-vs-One (OvO) Multiclass Logistic Regression and print accuracy.\n",
    "from sklearn.model_selection import train_test_split\n",
    "from sklearn.linear_model import LogisticRegression\n",
    "from sklearn.multiclass import OneVsOneClassifier\n",
    "from sklearn.datasets import load_iris\n",
    "from sklearn.metrics import accuracy_score\n",
    "\n",
    "# Load dataset\n",
    "iris = load_iris()\n",
    "X, y = iris.data, iris.target\n",
    "\n",
    "# Split data\n",
    "X_train, X_test, y_train, y_test = train_test_split(X, y, test_size=0.2, random_state=42)\n",
    "\n",
    "# Train One-vs-One (OvO) Logistic Regression\n",
    "ovo_clf = OneVsOneClassifier(LogisticRegression(max_iter=5000))\n",
    "ovo_clf.fit(X_train, y_train)\n",
    "\n",
    "# Predict and evaluate accuracy\n",
    "y_pred = ovo_clf.predict(X_test)\n",
    "accuracy = accuracy_score(y_test, y_pred)\n",
    "\n",
    "print(\"One-vs-One (OvO) Logistic Regression Accuracy:\", accuracy)"
   ]
  },
  {
   "cell_type": "code",
   "execution_count": 3,
   "id": "182bf63c-b693-4f12-aad0-2c089811683e",
   "metadata": {},
   "outputs": [
    {
     "data": {
      "image/png": "[encoded data removed]",
      "text/plain": [
       "<Figure size 500x400 with 2 Axes>"
      ]
     },
     "metadata": {},
     "output_type": "display_data"
    },
    {
     "name": "stdout",
     "output_type": "stream",
     "text": [
      "Accuracy: 0.855\n"
     ]
    }
   ],
   "source": [
    "#11.EEM Write a Python program to train a Logistic Regression model and visualize the confusion matrix for binary\n",
    "#classification.\n",
    "import numpy as np\n",
    "import matplotlib.pyplot as plt\n",
    "import seaborn as sns\n",
    "from sklearn.model_selection import train_test_split\n",
    "from sklearn.linear_model import LogisticRegression\n",
    "from sklearn.datasets import make_classification\n",
    "from sklearn.metrics import confusion_matrix, accuracy_score\n",
    "\n",
    "# Generate binary classification data\n",
    "X, y = make_classification(n_samples=1000, n_features=20, n_classes=2, random_state=42)\n",
    "\n",
    "# Split data\n",
    "X_train, X_test, y_train, y_test = train_test_split(X, y, test_size=0.2, random_state=42)\n",
    "\n",
    "# Train Logistic Regression model\n",
    "model = LogisticRegression()\n",
    "model.fit(X_train, y_train)\n",
    "\n",
    "# Predict\n",
    "y_pred = model.predict(X_test)\n",
    "\n",
    "# Compute confusion matrix\n",
    "conf_matrix = confusion_matrix(y_test, y_pred)\n",
    "\n",
    "# Plot confusion matrix\n",
    "plt.figure(figsize=(5, 4))\n",
    "sns.heatmap(conf_matrix, annot=True, fmt='d', cmap='Blues')\n",
    "plt.xlabel('Predicted Label')\n",
    "plt.ylabel('True Label')\n",
    "plt.title('Confusion Matrix')\n",
    "plt.show()\n",
    "\n",
    "# Print accuracy\n",
    "accuracy = accuracy_score(y_test, y_pred)\n",
    "print(\"Accuracy:\", accuracy)\n"
   ]
  },
  {
   "cell_type": "code",
   "execution_count": 4,
   "id": "be169023-8e3f-4208-a756-21b0b324ea42",
   "metadata": {},
   "outputs": [
    {
     "name": "stdout",
     "output_type": "stream",
     "text": [
      "Precision: 0.87, Recall: 0.82, F1-Score: 0.84\n"
     ]
    }
   ],
   "source": [
    "#12.Write a Python program to train a Logistic Regression model and evaluate its performance using Precision,\n",
    "#Recall, and F1-Score.\n",
    "from sklearn.model_selection import train_test_split\n",
    "from sklearn.linear_model import LogisticRegression\n",
    "from sklearn.metrics import precision_score, recall_score, f1_score\n",
    "from sklearn.datasets import make_classification\n",
    "\n",
    "# Generate sample data\n",
    "X, y = make_classification(n_samples=1000, n_features=10, random_state=42)\n",
    "\n",
    "# Split data\n",
    "X_train, X_test, y_train, y_test = train_test_split(X, y, test_size=0.2, random_state=42)\n",
    "\n",
    "# Train model\n",
    "model = LogisticRegression()\n",
    "model.fit(X_train, y_train)\n",
    "\n",
    "# Predictions\n",
    "y_pred = model.predict(X_test)\n",
    "\n",
    "# Evaluate performance\n",
    "precision = precision_score(y_test, y_pred)\n",
    "recall = recall_score(y_test, y_pred)\n",
    "f1 = f1_score(y_test, y_pred)\n",
    "\n",
    "print(f\"Precision: {precision:.2f}, Recall: {recall:.2f}, F1-Score: {f1:.2f}\")\n"
   ]
  },
  {
   "cell_type": "code",
   "execution_count": 5,
   "id": "7bb9587b-543c-4eef-aef2-d36632df1356",
   "metadata": {},
   "outputs": [
    {
     "name": "stdout",
     "output_type": "stream",
     "text": [
      "Precision: 0.41, Recall: 0.75, F1-Score: 0.53\n"
     ]
    }
   ],
   "source": [
    "#13.E\u0013M Write a Python program to train a Logistic Regression model on imbalanced data and apply class weights to\n",
    "#improve model performance.\n",
    "from sklearn.utils import class_weight\n",
    "\n",
    "# Generate imbalanced data\n",
    "X, y = make_classification(n_samples=1000, weights=[0.9, 0.1], random_state=42)\n",
    "\n",
    "# Split data\n",
    "X_train, X_test, y_train, y_test = train_test_split(X, y, test_size=0.2, random_state=42)\n",
    "\n",
    "# Train model with class weights\n",
    "model = LogisticRegression(class_weight='balanced')\n",
    "model.fit(X_train, y_train)\n",
    "\n",
    "# Predictions\n",
    "y_pred = model.predict(X_test)\n",
    "\n",
    "# Evaluate performance\n",
    "precision = precision_score(y_test, y_pred)\n",
    "recall = recall_score(y_test, y_pred)\n",
    "f1 = f1_score(y_test, y_pred)\n",
    "\n",
    "print(f\"Precision: {precision:.2f}, Recall: {recall:.2f}, F1-Score: {f1:.2f}\")\n"
   ]
  },
  {
   "cell_type": "code",
   "execution_count": 6,
   "id": "1903629d-79c4-4f45-9841-5f757eb6e7a7",
   "metadata": {},
   "outputs": [
    {
     "name": "stderr",
     "output_type": "stream",
     "text": [
      "C:\\Users\\PC DOCTOR\\AppData\\Local\\Temp\\ipykernel_7060\\1110420232.py:17: SettingWithCopyWarning: \n",
      "A value is trying to be set on a copy of a slice from a DataFrame.\n",
      "Try using .loc[row_indexer,col_indexer] = value instead\n",
      "\n",
      "See the caveats in the documentation: https://pandas.pydata.org/pandas-docs/stable/user_guide/indexing.html#returning-a-view-versus-a-copy\n",
      "  X['Age'] = imputer.fit_transform(X[['Age']])\n",
      "C:\\Users\\PC DOCTOR\\AppData\\Local\\Temp\\ipykernel_7060\\1110420232.py:20: SettingWithCopyWarning: \n",
      "A value is trying to be set on a copy of a slice from a DataFrame.\n",
      "Try using .loc[row_indexer,col_indexer] = value instead\n",
      "\n",
      "See the caveats in the documentation: https://pandas.pydata.org/pandas-docs/stable/user_guide/indexing.html#returning-a-view-versus-a-copy\n",
      "  X['Sex'] = LabelEncoder().fit_transform(X['Sex'])\n"
     ]
    },
    {
     "name": "stdout",
     "output_type": "stream",
     "text": [
      "Accuracy: 0.80\n"
     ]
    }
   ],
   "source": [
    "#14.Write a Python program to train Logistic Regression on the Titanic dataset, handle missing values, and\n",
    "#evaluate performance.\n",
    "import pandas as pd\n",
    "from sklearn.impute import SimpleImputer\n",
    "from sklearn.preprocessing import LabelEncoder\n",
    "\n",
    "# Load dataset\n",
    "url = \"https://raw.githubusercontent.com/datasciencedojo/datasets/master/titanic.csv\"\n",
    "df = pd.read_csv(url)\n",
    "\n",
    "# Select features and target\n",
    "X = df[['Pclass', 'Sex', 'Age', 'Fare']]\n",
    "y = df['Survived']\n",
    "\n",
    "# Handle missing values\n",
    "imputer = SimpleImputer(strategy='mean')\n",
    "X['Age'] = imputer.fit_transform(X[['Age']])\n",
    "\n",
    "# Encode categorical data\n",
    "X['Sex'] = LabelEncoder().fit_transform(X['Sex'])\n",
    "\n",
    "# Split and train model\n",
    "X_train, X_test, y_train, y_test = train_test_split(X, y, test_size=0.2, random_state=42)\n",
    "model = LogisticRegression()\n",
    "model.fit(X_train, y_train)\n",
    "\n",
    "# Evaluate accuracy\n",
    "accuracy = model.score(X_test, y_test)\n",
    "print(f\"Accuracy: {accuracy:.2f}\")\n"
   ]
  },
  {
   "cell_type": "code",
   "execution_count": 7,
   "id": "7176bc59-b2e9-4370-89c2-5bb9c65c8ced",
   "metadata": {},
   "outputs": [
    {
     "name": "stdout",
     "output_type": "stream",
     "text": [
      "Accuracy without Scaling: 0.80\n",
      "Accuracy with Scaling: 0.80\n"
     ]
    }
   ],
   "source": [
    "#15.Write a Python program to apply feature scaling (Standardization) before training a Logistic Regression\n",
    "#model. Evaluate its accuracy and compare results with and without scaling.\n",
    "from sklearn.preprocessing import StandardScaler\n",
    "\n",
    "# Standardize features\n",
    "scaler = StandardScaler()\n",
    "X_train_scaled = scaler.fit_transform(X_train)\n",
    "X_test_scaled = scaler.transform(X_test)\n",
    "\n",
    "# Train model with scaled data\n",
    "model_scaled = LogisticRegression()\n",
    "model_scaled.fit(X_train_scaled, y_train)\n",
    "\n",
    "# Evaluate accuracy\n",
    "accuracy_scaled = model_scaled.score(X_test_scaled, y_test)\n",
    "accuracy_unscaled = model.score(X_test, y_test)\n",
    "\n",
    "print(f\"Accuracy without Scaling: {accuracy_unscaled:.2f}\")\n",
    "print(f\"Accuracy with Scaling: {accuracy_scaled:.2f}\")\n"
   ]
  },
  {
   "cell_type": "code",
   "execution_count": 8,
   "id": "3c107350-8b29-4f54-a8b6-12954194695e",
   "metadata": {},
   "outputs": [
    {
     "name": "stdout",
     "output_type": "stream",
     "text": [
      "ROC-AUC Score: 0.87\n"
     ]
    }
   ],
   "source": [
    "#16.Write a Python program to train Logistic Regression and evaluate its performance using ROC-AUC score\n",
    "from sklearn.metrics import roc_auc_score\n",
    "\n",
    "# Train model\n",
    "model = LogisticRegression()\n",
    "model.fit(X_train, y_train)\n",
    "\n",
    "# Predict probabilities\n",
    "y_probs = model.predict_proba(X_test)[:, 1]\n",
    "\n",
    "# Evaluate ROC-AUC score\n",
    "roc_auc = roc_auc_score(y_test, y_probs)\n",
    "print(f\"ROC-AUC Score: {roc_auc:.2f}\")\n"
   ]
  },
  {
   "cell_type": "code",
   "execution_count": 9,
   "id": "0867360d-d1bb-446d-b891-1d6352f30972",
   "metadata": {},
   "outputs": [
    {
     "name": "stdout",
     "output_type": "stream",
     "text": [
      "Accuracy: 0.80\n"
     ]
    }
   ],
   "source": [
    "#17.Write a Python program to train Logistic Regression using a custom learning rate (C=0.5) and evaluate\n",
    "#accuracy\n",
    "# Train model with C=0.5\n",
    "model = LogisticRegression(C=0.5)\n",
    "model.fit(X_train, y_train)\n",
    "\n",
    "# Evaluate accuracy\n",
    "accuracy = model.score(X_test, y_test)\n",
    "print(f\"Accuracy: {accuracy:.2f}\")\n"
   ]
  },
  {
   "cell_type": "code",
   "execution_count": 10,
   "id": "7d7c0ebe-aee7-4580-a38f-82323715a6ca",
   "metadata": {},
   "outputs": [
    {
     "name": "stdout",
     "output_type": "stream",
     "text": [
      "  Feature  Coefficient\n",
      "3    Fare     0.001158\n",
      "2     Age    -0.025567\n",
      "0  Pclass    -0.996394\n",
      "1     Sex    -2.464776\n"
     ]
    }
   ],
   "source": [
    "#18.Write a Python program to train Logistic Regression and identify important features based on model\n",
    "#coefficients.\n",
    "# Train model\n",
    "model = LogisticRegression()\n",
    "model.fit(X_train, y_train)\n",
    "\n",
    "# Feature importance\n",
    "feature_importance = pd.DataFrame({'Feature': X.columns, 'Coefficient': model.coef_[0]})\n",
    "feature_importance = feature_importance.sort_values(by='Coefficient', ascending=False)\n",
    "\n",
    "print(feature_importance)\n"
   ]
  },
  {
   "cell_type": "code",
   "execution_count": 11,
   "id": "adbd9b96-d12e-4c06-85b4-dc194c63c7ac",
   "metadata": {},
   "outputs": [
    {
     "name": "stdout",
     "output_type": "stream",
     "text": [
      "Cohen’s Kappa Score: 0.58\n"
     ]
    }
   ],
   "source": [
    "#19.Write a Python program to train Logistic Regression and evaluate its performance using Cohen’s Kappa\n",
    "#Score.\n",
    "from sklearn.metrics import cohen_kappa_score\n",
    "\n",
    "# Train model\n",
    "model = LogisticRegression()\n",
    "model.fit(X_train, y_train)\n",
    "\n",
    "# Predictions\n",
    "y_pred = model.predict(X_test)\n",
    "\n",
    "# Compute Cohen’s Kappa Score\n",
    "kappa_score = cohen_kappa_score(y_test, y_pred)\n",
    "print(f\"Cohen’s Kappa Score: {kappa_score:.2f}\")\n"
   ]
  },
  {
   "cell_type": "code",
   "execution_count": 20,
   "id": "4087b9e7-70d4-47bc-aeee-8890b4f282d1",
   "metadata": {},
   "outputs": [],
   "source": [
    "#20.Write a Python program to train Logistic Regression and visualize the Precision-Recall Curve for binary\n",
    "#classificatio:\n",
    "import numpy as np\n",
    "from sklearn.model_selection import train_test_split\n",
    "from sklearn.datasets import make_classification\n",
    "\n",
    "# Generate synthetic dataset\n",
    "X, y = make_classification(n_samples=1000, n_features=20, random_state=42)\n",
    "\n",
    "# Split into train and test sets\n",
    "X_train, X_test, y_train, y_test = train_test_split(X, y, test_size=0.2, random_state=42)\n"
   ]
  },
  {
   "cell_type": "code",
   "execution_count": 15,
   "id": "202e8717-51b5-4c0c-8eed-db2e0323ac42",
   "metadata": {},
   "outputs": [
    {
     "name": "stdout",
     "output_type": "stream",
     "text": [
      "Solver: liblinear, Accuracy: 0.7821\n",
      "Solver: saga, Accuracy: 0.6983\n",
      "Solver: lbfgs, Accuracy: 0.7989\n"
     ]
    },
    {
     "name": "stderr",
     "output_type": "stream",
     "text": [
      "C:\\Users\\PC DOCTOR\\anaconda3\\Lib\\site-packages\\sklearn\\linear_model\\_sag.py:350: ConvergenceWarning: The max_iter was reached which means the coef_ did not converge\n",
      "  warnings.warn(\n"
     ]
    }
   ],
   "source": [
    "#21.Write a Python program to train Logistic Regression with different solvers (liblinear, saga, lbfgs) and compare\n",
    "#their accuracy Write a Python\n",
    "from sklearn.metrics import accuracy_score\n",
    "\n",
    "solvers = ['liblinear', 'saga', 'lbfgs']\n",
    "accuracies = {}\n",
    "\n",
    "for solver in solvers:\n",
    "    model = LogisticRegression(solver=solver, max_iter=500, random_state=42)\n",
    "    model.fit(X_train, y_train)\n",
    "    y_pred = model.predict(X_test)\n",
    "    accuracies[solver] = accuracy_score(y_test, y_pred)\n",
    "\n",
    "# Print accuracy comparison\n",
    "for solver, acc in accuracies.items():\n",
    "    print(f\"Solver: {solver}, Accuracy: {acc:.4f}\")\n"
   ]
  },
  {
   "cell_type": "code",
   "execution_count": 31,
   "id": "4fdd5114-d69c-402a-94dc-71d4330ff1f4",
   "metadata": {},
   "outputs": [
    {
     "name": "stdout",
     "output_type": "stream",
     "text": [
      "Matthews Correlation Coefficient (MCC): 0.6593206923270521\n"
     ]
    }
   ],
   "source": [
    "#22.Write a Python program to train Logistic Regression and evaluate its performance using Matthews\n",
    "#Correlation Coefficient (MCC).\n",
    "from sklearn.model_selection import train_test_split\n",
    "from sklearn.preprocessing import StandardScaler\n",
    "from sklearn.linear_model import LogisticRegression\n",
    "from sklearn.metrics import matthews_corrcoef\n",
    "from sklearn.datasets import make_classification\n",
    "\n",
    "# Generate synthetic dataset\n",
    "X, y = make_classification(n_samples=1000, n_features=10, random_state=42)\n",
    "\n",
    "# Split the dataset into training and testing sets\n",
    "X_train, X_test, y_train, y_test = train_test_split(X, y, test_size=0.2, random_state=42)\n",
    "\n",
    "# Standardize the features\n",
    "scaler = StandardScaler()\n",
    "X_train = scaler.fit_transform(X_train)\n",
    "X_test = scaler.transform(X_test)\n",
    "\n",
    "# Train Logistic Regression model\n",
    "model = LogisticRegression()\n",
    "model.fit(X_train, y_train)\n",
    "\n",
    "# Predict on test set\n",
    "y_pred = model.predict(X_test)\n",
    "\n",
    "# Calculate Matthews Correlation Coefficient (MCC)\n",
    "mcc = matthews_corrcoef(y_test, y_pred)\n",
    "\n",
    "print(f\"Matthews Correlation Coefficient (MCC): {mcc}\")\n"
   ]
  },
  {
   "cell_type": "code",
   "execution_count": 17,
   "id": "6c3247d1-ff15-41b9-819c-bad16a9325cd",
   "metadata": {},
   "outputs": [
    {
     "name": "stdout",
     "output_type": "stream",
     "text": [
      "Accuracy on raw data: 0.7989\n",
      "Accuracy on standardized data: 0.7989\n"
     ]
    }
   ],
   "source": [
    "#23.Write a Python program to train Logistic Regression on both raw and standardized data. Compare their\n",
    "#accuracy to see the impact of feature scaling.\n",
    "from sklearn.preprocessing import StandardScaler\n",
    "\n",
    "# Train on raw data\n",
    "model_raw = LogisticRegression()\n",
    "model_raw.fit(X_train, y_train)\n",
    "acc_raw = accuracy_score(y_test, model_raw.predict(X_test))\n",
    "\n",
    "# Standardize data\n",
    "scaler = StandardScaler()\n",
    "X_train_scaled = scaler.fit_transform(X_train)\n",
    "X_test_scaled = scaler.transform(X_test)\n",
    "\n",
    "# Train on standardized data\n",
    "model_scaled = LogisticRegression()\n",
    "model_scaled.fit(X_train_scaled, y_train)\n",
    "acc_scaled = accuracy_score(y_test, model_scaled.predict(X_test_scaled))\n",
    "\n",
    "print(f\"Accuracy on raw data: {acc_raw:.4f}\")\n",
    "print(f\"Accuracy on standardized data: {acc_scaled:.4f}\")\n"
   ]
  },
  {
   "cell_type": "code",
   "execution_count": 27,
   "id": "ea859345-9c63-4eba-81bf-728cb9a00674",
   "metadata": {},
   "outputs": [
    {
     "name": "stdout",
     "output_type": "stream",
     "text": [
      "Best C: 0.005994842503189409, Accuracy: 0.8650\n"
     ]
    }
   ],
   "source": [
    "#24.Write a Python program to train Logistic Regression and find the optimal C (regularization strength) using\n",
    "#cross-validation.\n",
    "\n",
    "from sklearn.model_selection import train_test_split, GridSearchCV\n",
    "from sklearn.datasets import make_classification\n",
    "from sklearn.linear_model import LogisticRegression\n",
    "from sklearn.metrics import accuracy_score\n",
    "\n",
    "# Generate dataset\n",
    "X, y = make_classification(n_samples=1000, n_features=20, random_state=42)\n",
    "X_train, X_test, y_train, y_test = train_test_split(X, y, test_size=0.2, random_state=42)\n",
    "\n",
    "# Define C values for tuning\n",
    "c_values = np.logspace(-4, 4, 10)\n",
    "\n",
    "# Grid Search for best C\n",
    "param_grid = {'C': c_values}\n",
    "grid_search = GridSearchCV(LogisticRegression(solver='liblinear'), param_grid, cv=5, scoring='accuracy')\n",
    "grid_search.fit(X_train, y_train)\n",
    "\n",
    "# Train best model\n",
    "best_C = grid_search.best_params_['C']\n",
    "best_model = LogisticRegression(C=best_C, solver='liblinear')\n",
    "best_model.fit(X_train, y_train)\n",
    "\n",
    "# Evaluate\n",
    "y_pred = best_model.predict(X_test)\n",
    "accuracy = accuracy_score(y_test, y_pred)\n",
    "print(f\"Best C: {best_C}, Accuracy: {accuracy:.4f}\")\n",
    "\n"
   ]
  },
  {
   "cell_type": "code",
   "execution_count": 19,
   "id": "b8c3afad-7099-4647-9064-085e30e39f0a",
   "metadata": {},
   "outputs": [
    {
     "name": "stdout",
     "output_type": "stream",
     "text": [
      "Loaded Model Accuracy: 0.7989\n"
     ]
    }
   ],
   "source": [
    "#25.Write a Python program to train Logistic Regression, save the trained model using joblib, and load it again to\n",
    "#make predictions.\n",
    "import joblib\n",
    "\n",
    "# Train model\n",
    "model = LogisticRegression()\n",
    "model.fit(X_train, y_train)\n",
    "\n",
    "# Save the model\n",
    "joblib.dump(model, 'logistic_regression_model.pkl')\n",
    "\n",
    "# Load the model\n",
    "loaded_model = joblib.load('logistic_regression_model.pkl')\n",
    "\n",
    "# Predict with loaded model\n",
    "y_pred_loaded = loaded_model.predict(X_test)\n",
    "print(f\"Loaded Model Accuracy: {accuracy_score(y_test, y_pred_loaded):.4f}\")\n"
   ]
  },
  {
   "cell_type": "code",
   "execution_count": null,
   "id": "9c374255-4dee-4899-9990-b02ebc01ca48",
   "metadata": {},
   "outputs": [],
   "source": []
  }
 ],
 "metadata": {
  "kernelspec": {
   "display_name": "Python 3 (ipykernel)",
   "language": "python",
   "name": "python3"
  },
  "language_info": {
   "codemirror_mode": {
    "name": "ipython",
    "version": 3
   },
   "file_extension": ".py",
   "mimetype": "text/x-python",
   "name": "python",
   "nbconvert_exporter": "python",
   "pygments_lexer": "ipython3",
   "version": "3.11.7"
  }
 },
 "nbformat": 4,
 "nbformat_minor": 5
}
